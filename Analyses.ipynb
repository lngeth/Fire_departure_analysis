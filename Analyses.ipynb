{
 "cells": [
  {
   "cell_type": "markdown",
   "metadata": {},
   "source": [
    "# Projet python"
   ]
  },
  {
   "cell_type": "code",
   "execution_count": 1,
   "metadata": {},
   "outputs": [],
   "source": [
    "import pandas as pd\n",
    "from Scrapper import Scrapper\n",
    "from Tools import generate_date_ranges_months"
   ]
  },
  {
   "cell_type": "markdown",
   "metadata": {},
   "source": [
    "Nous traitons avec des données d'incendies en France.  \n",
    "On cherche à savoir si ces évènements sont concentrés dans des endroits précis en France, ou bien ces évènements sont purement aléatoires."
   ]
  },
  {
   "cell_type": "markdown",
   "metadata": {},
   "source": [
    "## Scraping"
   ]
  },
  {
   "cell_type": "markdown",
   "metadata": {},
   "source": [
    "Tout d'abord, définissons la période auquel nous voulons analysés nos données.  \n",
    "Nous choisissons de prendre toute l'année 2023.  \n",
    "  \n",
    "Toutefois, nous ne pouvons pas juste récupérer l'année entière directement car il y a des problèmes de serveur avec le site où nous scrappons nos données.  \n",
    "Nous séparons donc notre récupérations en chunk de 3 mois."
   ]
  },
  {
   "cell_type": "code",
   "execution_count": 2,
   "metadata": {},
   "outputs": [
    {
     "data": {
      "text/plain": [
       "[('01/01/2023', '28/02/2023'),\n",
       " ('01/03/2023', '30/04/2023'),\n",
       " ('01/05/2023', '30/06/2023'),\n",
       " ('01/07/2023', '31/08/2023'),\n",
       " ('01/09/2023', '31/10/2023'),\n",
       " ('01/11/2023', '31/12/2023')]"
      ]
     },
     "execution_count": 2,
     "metadata": {},
     "output_type": "execute_result"
    }
   ],
   "source": [
    "start_date = \"01/01/2023\"\n",
    "end_date = \"31/12/2023\"\n",
    "date_ranges = generate_date_ranges_months(start_date, end_date, months=2)\n",
    "date_ranges"
   ]
  },
  {
   "cell_type": "code",
   "execution_count": 3,
   "metadata": {},
   "outputs": [
    {
     "name": "stdout",
     "output_type": "stream",
     "text": [
      "12 max workers...\n",
      "[('01/01/2023', '31/01/2023'), ('01/02/2023', '28/02/2023')]\n",
      "Scrapping done successfully...\n",
      "Scrapping done successfully...\n",
      "12 max workers...\n",
      "[('01/03/2023', '31/03/2023'), ('01/04/2023', '30/04/2023')]\n",
      "Scrapping done successfully...\n",
      "Scrapping done successfully...\n",
      "12 max workers...\n",
      "[('01/05/2023', '31/05/2023'), ('01/06/2023', '30/06/2023')]\n",
      "Scrapping done successfully...\n",
      "Scrapping done successfully...\n",
      "12 max workers...\n",
      "[('01/07/2023', '31/07/2023'), ('01/08/2023', '31/08/2023')]\n",
      "Scrapping done successfully...\n",
      "Scrapping done successfully...\n",
      "12 max workers...\n",
      "[('01/09/2023', '01/10/2023'), ('02/10/2023', '31/10/2023')]\n",
      "Scrapping done successfully...\n",
      "Scrapping done successfully...\n",
      "12 max workers...\n",
      "[('01/11/2023', '01/12/2023'), ('02/12/2023', '31/12/2023')]\n",
      "Scrapping done successfully...\n",
      "Scrapping done successfully...\n"
     ]
    }
   ],
   "source": [
    "dfs = []\n",
    "for d in date_ranges:\n",
    "  dfs.append(Scrapper().generate_dataframe(d[0], d[1]))\n",
    "fire_departure_df = pd.concat(dfs, ignore_index=True)"
   ]
  },
  {
   "cell_type": "code",
   "execution_count": 4,
   "metadata": {},
   "outputs": [
    {
     "name": "stdout",
     "output_type": "stream",
     "text": [
      "<class 'pandas.core.frame.DataFrame'>\n",
      "RangeIndex: 2694 entries, 0 to 2693\n",
      "Data columns (total 8 columns):\n",
      " #   Column                  Non-Null Count  Dtype \n",
      "---  ------                  --------------  ----- \n",
      " 0                           2694 non-null   object\n",
      " 1   Année                   2694 non-null   object\n",
      " 2   Alerte                  2694 non-null   object\n",
      " 3   Département             2694 non-null   object\n",
      " 4   Commune                 2694 non-null   object\n",
      " 5   Surface (ha)            2694 non-null   object\n",
      " 6   Nature                  2694 non-null   object\n",
      " 7   Précision de la donnée  2694 non-null   object\n",
      "dtypes: object(8)\n",
      "memory usage: 168.5+ KB\n"
     ]
    }
   ],
   "source": [
    "fire_departure_df.info()"
   ]
  },
  {
   "cell_type": "markdown",
   "metadata": {},
   "source": [
    "Sauvegardons ces données brut scrapés dans un csv afin d'éviter de devoir toujours refaire du scraping.  \n",
    "Nous les sauvegarderons dans un fichier nommé \"raw_fire_departure_2023.csv\"."
   ]
  },
  {
   "cell_type": "code",
   "execution_count": 5,
   "metadata": {},
   "outputs": [],
   "source": [
    "fire_departure_df.to_csv(\"raw_fire_departure_2023.csv\", index=False)"
   ]
  },
  {
   "cell_type": "markdown",
   "metadata": {},
   "source": [
    "## Import data"
   ]
  },
  {
   "cell_type": "markdown",
   "metadata": {},
   "source": [
    "Pour éviter de refaire le scraping prédéfini en haut, nous importons le fichier CSV qu'on a enregistré au préalable."
   ]
  },
  {
   "cell_type": "code",
   "execution_count": 11,
   "metadata": {},
   "outputs": [
    {
     "name": "stdout",
     "output_type": "stream",
     "text": [
      "<class 'pandas.core.frame.DataFrame'>\n",
      "RangeIndex: 2694 entries, 0 to 2693\n",
      "Data columns (total 8 columns):\n",
      " #   Column                  Non-Null Count  Dtype  \n",
      "---  ------                  --------------  -----  \n",
      " 0   Unnamed: 0              0 non-null      float64\n",
      " 1   Année                   2694 non-null   int64  \n",
      " 2   Alerte                  2694 non-null   object \n",
      " 3   Département             2694 non-null   object \n",
      " 4   Commune                 2694 non-null   object \n",
      " 5   Surface (ha)            2694 non-null   float64\n",
      " 6   Nature                  2694 non-null   object \n",
      " 7   Précision de la donnée  2694 non-null   object \n",
      "dtypes: float64(2), int64(1), object(5)\n",
      "memory usage: 168.5+ KB\n"
     ]
    }
   ],
   "source": [
    "fire_departure_df = pd.read_csv(\"raw_fire_departure_2023.csv\")\n",
    "fire_departure_df.info()"
   ]
  },
  {
   "cell_type": "markdown",
   "metadata": {},
   "source": [
    "## Data cleaning"
   ]
  },
  {
   "cell_type": "markdown",
   "metadata": {},
   "source": [
    "Commençons par supprimer les données qui sont doubles."
   ]
  },
  {
   "cell_type": "code",
   "execution_count": 6,
   "metadata": {},
   "outputs": [
    {
     "name": "stdout",
     "output_type": "stream",
     "text": [
      "Il y a 25 données en doubles...\n"
     ]
    }
   ],
   "source": [
    "doublons = fire_departure_df[fire_departure_df.duplicated()]\n",
    "print(f\"Il y a {len(doublons)} données en doubles...\")"
   ]
  },
  {
   "cell_type": "code",
   "execution_count": 7,
   "metadata": {},
   "outputs": [
    {
     "name": "stdout",
     "output_type": "stream",
     "text": [
      "<class 'pandas.core.frame.DataFrame'>\n",
      "RangeIndex: 2694 entries, 0 to 2693\n",
      "Data columns (total 9 columns):\n",
      " #   Column                  Non-Null Count  Dtype \n",
      "---  ------                  --------------  ----- \n",
      " 0   index                   2694 non-null   int64 \n",
      " 1                           2694 non-null   object\n",
      " 2   Année                   2694 non-null   object\n",
      " 3   Alerte                  2694 non-null   object\n",
      " 4   Département             2694 non-null   object\n",
      " 5   Commune                 2694 non-null   object\n",
      " 6   Surface (ha)            2694 non-null   object\n",
      " 7   Nature                  2694 non-null   object\n",
      " 8   Précision de la donnée  2694 non-null   object\n",
      "dtypes: int64(1), object(8)\n",
      "memory usage: 189.6+ KB\n"
     ]
    }
   ],
   "source": [
    "fire_departure_df.drop_duplicates()\n",
    "fire_departure_df.reset_index(inplace=True)\n",
    "fire_departure_df.info()"
   ]
  },
  {
   "cell_type": "markdown",
   "metadata": {},
   "source": [
    "Gardons uniquement les colonnes qui nous intéressent."
   ]
  },
  {
   "cell_type": "code",
   "execution_count": 9,
   "metadata": {},
   "outputs": [
    {
     "data": {
      "text/plain": [
       "Index(['index', '', 'Année', 'Alerte', 'Département', 'Commune',\n",
       "       'Surface (ha)', 'Nature', 'Précision de la donnée'],\n",
       "      dtype='object')"
      ]
     },
     "execution_count": 9,
     "metadata": {},
     "output_type": "execute_result"
    }
   ],
   "source": [
    "fire_departure_df.columns"
   ]
  },
  {
   "cell_type": "code",
   "execution_count": 10,
   "metadata": {},
   "outputs": [
    {
     "data": {
      "text/html": [
       "<div>\n",
       "<style scoped>\n",
       "    .dataframe tbody tr th:only-of-type {\n",
       "        vertical-align: middle;\n",
       "    }\n",
       "\n",
       "    .dataframe tbody tr th {\n",
       "        vertical-align: top;\n",
       "    }\n",
       "\n",
       "    .dataframe thead th {\n",
       "        text-align: right;\n",
       "    }\n",
       "</style>\n",
       "<table border=\"1\" class=\"dataframe\">\n",
       "  <thead>\n",
       "    <tr style=\"text-align: right;\">\n",
       "      <th></th>\n",
       "      <th></th>\n",
       "      <th>Année</th>\n",
       "      <th>Alerte</th>\n",
       "      <th>Département</th>\n",
       "      <th>Commune</th>\n",
       "      <th>Surface (ha)</th>\n",
       "      <th>Nature</th>\n",
       "    </tr>\n",
       "  </thead>\n",
       "  <tbody>\n",
       "    <tr>\n",
       "      <th>0</th>\n",
       "      <td></td>\n",
       "      <td>2023</td>\n",
       "      <td>01/01/2023 10:05</td>\n",
       "      <td>2B</td>\n",
       "      <td>Cagnano</td>\n",
       "      <td>0.0100</td>\n",
       "      <td>Malveillance</td>\n",
       "    </tr>\n",
       "    <tr>\n",
       "      <th>1</th>\n",
       "      <td></td>\n",
       "      <td>2023</td>\n",
       "      <td>01/01/2023 15:29</td>\n",
       "      <td>88</td>\n",
       "      <td>Dommartin-lès-Remiremont</td>\n",
       "      <td>0.0002</td>\n",
       "      <td>-</td>\n",
       "    </tr>\n",
       "    <tr>\n",
       "      <th>2</th>\n",
       "      <td></td>\n",
       "      <td>2023</td>\n",
       "      <td>01/01/2023 17:54</td>\n",
       "      <td>40</td>\n",
       "      <td>Labatut</td>\n",
       "      <td>0.1000</td>\n",
       "      <td>Accidentelle</td>\n",
       "    </tr>\n",
       "    <tr>\n",
       "      <th>3</th>\n",
       "      <td></td>\n",
       "      <td>2023</td>\n",
       "      <td>01/01/2023 18:11</td>\n",
       "      <td>64</td>\n",
       "      <td>Iholdy</td>\n",
       "      <td>1.0000</td>\n",
       "      <td>-</td>\n",
       "    </tr>\n",
       "    <tr>\n",
       "      <th>4</th>\n",
       "      <td></td>\n",
       "      <td>2023</td>\n",
       "      <td>02/01/2023 20:59</td>\n",
       "      <td>83</td>\n",
       "      <td>Rayol-Canadel-sur-Mer</td>\n",
       "      <td>0.0035</td>\n",
       "      <td>Involontaire (particulier)</td>\n",
       "    </tr>\n",
       "  </tbody>\n",
       "</table>\n",
       "</div>"
      ],
      "text/plain": [
       "    Année            Alerte Département                   Commune  \\\n",
       "0    2023  01/01/2023 10:05          2B                   Cagnano   \n",
       "1    2023  01/01/2023 15:29          88  Dommartin-lès-Remiremont   \n",
       "2    2023  01/01/2023 17:54          40                   Labatut   \n",
       "3    2023  01/01/2023 18:11          64                    Iholdy   \n",
       "4    2023  02/01/2023 20:59          83     Rayol-Canadel-sur-Mer   \n",
       "\n",
       "  Surface (ha)                      Nature  \n",
       "0       0.0100                Malveillance  \n",
       "1       0.0002                           -  \n",
       "2       0.1000                Accidentelle  \n",
       "3       1.0000                           -  \n",
       "4       0.0035  Involontaire (particulier)  "
      ]
     },
     "execution_count": 10,
     "metadata": {},
     "output_type": "execute_result"
    }
   ],
   "source": [
    "res = fire_departure_df.drop(columns=[\"index\", \"Précision de la donnée\"], axis=1)\n",
    "res.head()"
   ]
  },
  {
   "cell_type": "markdown",
   "metadata": {},
   "source": [
    "## Vizualisation"
   ]
  },
  {
   "cell_type": "code",
   "execution_count": null,
   "metadata": {},
   "outputs": [],
   "source": [
    "import matplotlib.pyplot as plt"
   ]
  }
 ],
 "metadata": {
  "kernelspec": {
   "display_name": "Python 3",
   "language": "python",
   "name": "python3"
  },
  "language_info": {
   "codemirror_mode": {
    "name": "ipython",
    "version": 3
   },
   "file_extension": ".py",
   "mimetype": "text/x-python",
   "name": "python",
   "nbconvert_exporter": "python",
   "pygments_lexer": "ipython3",
   "version": "3.11.2"
  }
 },
 "nbformat": 4,
 "nbformat_minor": 2
}
