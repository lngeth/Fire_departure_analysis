{
 "cells": [
  {
   "cell_type": "markdown",
   "metadata": {},
   "source": [
    "# Projet python"
   ]
  },
  {
   "cell_type": "code",
   "execution_count": 2,
   "metadata": {},
   "outputs": [],
   "source": [
    "import pandas as pd\n",
    "from Scrapper import Scrapper"
   ]
  },
  {
   "cell_type": "markdown",
   "metadata": {},
   "source": [
    "Corrélation avec des facteurs environnementaux\n",
    "Météo et précipitations : Croise les données d'incendies avec les données météorologiques (températures élevées, sécheresse, précipitations faibles) pour voir s’il existe une corrélation entre les conditions climatiques et les départs de feu. Par exemple, une sécheresse prolongée pourrait être liée à une augmentation du nombre d'incendies."
   ]
  },
  {
   "cell_type": "code",
   "execution_count": 1,
   "metadata": {},
   "outputs": [],
   "source": [
    "start_date = \"01/10/2023\"\n",
    "end_date = \"31/12/2023\"\n",
    "fire_departure_df = Scrapper().get_fire_departure_in_france_data(start_date, end_date)"
   ]
  },
  {
   "cell_type": "code",
   "execution_count": 3,
   "metadata": {},
   "outputs": [
    {
     "name": "stdout",
     "output_type": "stream",
     "text": [
      "<class 'pandas.core.frame.DataFrame'>\n",
      "Index: 271 entries, 0 to 332\n",
      "Data columns (total 8 columns):\n",
      " #   Column                  Non-Null Count  Dtype \n",
      "---  ------                  --------------  ----- \n",
      " 0                           271 non-null    object\n",
      " 1   Année                   271 non-null    object\n",
      " 2   Alerte                  271 non-null    object\n",
      " 3   Département             271 non-null    object\n",
      " 4   Commune                 271 non-null    object\n",
      " 5   Surface (ha)            271 non-null    object\n",
      " 6   Nature                  271 non-null    object\n",
      " 7   Précision de la donnée  271 non-null    object\n",
      "dtypes: object(8)\n",
      "memory usage: 19.1+ KB\n"
     ]
    }
   ],
   "source": [
    "natural_fire_departure_df = fire_departure_df[fire_departure_df['Nature'] != \"Malveillance\"]\n",
    "natural_fire_departure_df.info()"
   ]
  },
  {
   "cell_type": "code",
   "execution_count": 4,
   "metadata": {},
   "outputs": [
    {
     "data": {
      "text/html": [
       "<div>\n",
       "<style scoped>\n",
       "    .dataframe tbody tr th:only-of-type {\n",
       "        vertical-align: middle;\n",
       "    }\n",
       "\n",
       "    .dataframe tbody tr th {\n",
       "        vertical-align: top;\n",
       "    }\n",
       "\n",
       "    .dataframe thead th {\n",
       "        text-align: right;\n",
       "    }\n",
       "</style>\n",
       "<table border=\"1\" class=\"dataframe\">\n",
       "  <thead>\n",
       "    <tr style=\"text-align: right;\">\n",
       "      <th></th>\n",
       "      <th></th>\n",
       "      <th>Année</th>\n",
       "      <th>Alerte</th>\n",
       "      <th>Département</th>\n",
       "      <th>Commune</th>\n",
       "      <th>Surface (ha)</th>\n",
       "      <th>Nature</th>\n",
       "      <th>Précision de la donnée</th>\n",
       "    </tr>\n",
       "  </thead>\n",
       "  <tbody>\n",
       "    <tr>\n",
       "      <th>0</th>\n",
       "      <td></td>\n",
       "      <td>2023</td>\n",
       "      <td>01/10/2023 00:17</td>\n",
       "      <td>13</td>\n",
       "      <td>Saint-Chamas</td>\n",
       "      <td>0.0010</td>\n",
       "      <td>-</td>\n",
       "      <td>-</td>\n",
       "    </tr>\n",
       "    <tr>\n",
       "      <th>2</th>\n",
       "      <td></td>\n",
       "      <td>2023</td>\n",
       "      <td>01/10/2023 14:53</td>\n",
       "      <td>34</td>\n",
       "      <td>Nébian</td>\n",
       "      <td>0.4046</td>\n",
       "      <td>Involontaire (particulier)</td>\n",
       "      <td>-</td>\n",
       "    </tr>\n",
       "    <tr>\n",
       "      <th>3</th>\n",
       "      <td></td>\n",
       "      <td>2023</td>\n",
       "      <td>02/10/2023 05:25</td>\n",
       "      <td>13</td>\n",
       "      <td>Eyguières</td>\n",
       "      <td>0.0010</td>\n",
       "      <td>-</td>\n",
       "      <td>-</td>\n",
       "    </tr>\n",
       "    <tr>\n",
       "      <th>4</th>\n",
       "      <td></td>\n",
       "      <td>2023</td>\n",
       "      <td>02/10/2023 07:47</td>\n",
       "      <td>13</td>\n",
       "      <td>Eygalières</td>\n",
       "      <td>0.0010</td>\n",
       "      <td>-</td>\n",
       "      <td>-</td>\n",
       "    </tr>\n",
       "    <tr>\n",
       "      <th>5</th>\n",
       "      <td></td>\n",
       "      <td>2023</td>\n",
       "      <td>02/10/2023 08:43</td>\n",
       "      <td>2B</td>\n",
       "      <td>Linguizzetta</td>\n",
       "      <td>0.0010</td>\n",
       "      <td>-</td>\n",
       "      <td>-</td>\n",
       "    </tr>\n",
       "  </tbody>\n",
       "</table>\n",
       "</div>"
      ],
      "text/plain": [
       "    Année            Alerte Département       Commune Surface (ha)  \\\n",
       "0    2023  01/10/2023 00:17          13  Saint-Chamas       0.0010   \n",
       "2    2023  01/10/2023 14:53          34        Nébian       0.4046   \n",
       "3    2023  02/10/2023 05:25          13     Eyguières       0.0010   \n",
       "4    2023  02/10/2023 07:47          13    Eygalières       0.0010   \n",
       "5    2023  02/10/2023 08:43          2B  Linguizzetta       0.0010   \n",
       "\n",
       "                       Nature Précision de la donnée  \n",
       "0                           -                      -  \n",
       "2  Involontaire (particulier)                      -  \n",
       "3                           -                      -  \n",
       "4                           -                      -  \n",
       "5                           -                      -  "
      ]
     },
     "execution_count": 4,
     "metadata": {},
     "output_type": "execute_result"
    }
   ],
   "source": [
    "natural_fire_departure_df.head()"
   ]
  }
 ],
 "metadata": {
  "kernelspec": {
   "display_name": "Python 3",
   "language": "python",
   "name": "python3"
  },
  "language_info": {
   "codemirror_mode": {
    "name": "ipython",
    "version": 3
   },
   "file_extension": ".py",
   "mimetype": "text/x-python",
   "name": "python",
   "nbconvert_exporter": "python",
   "pygments_lexer": "ipython3",
   "version": "3.11.2"
  }
 },
 "nbformat": 4,
 "nbformat_minor": 2
}
